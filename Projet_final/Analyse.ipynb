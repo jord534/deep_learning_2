{
 "cells": [
  {
   "cell_type": "code",
   "execution_count": 13,
   "metadata": {},
   "outputs": [],
   "source": [
    "import pandas as pd\n",
    "import seaborn as sns\n",
    "from idx2numpy import convert_from_file\n",
    "from sklearn.utils import shuffle\n",
    "\n",
    "from principal_RBM_alpha import *\n",
    "from principal_DBN_alpha import *\n",
    "from principal_DNN_MNIST import *\n",
    "\n",
    "sns.set_theme()"
   ]
  },
  {
   "cell_type": "markdown",
   "metadata": {},
   "source": [
    "## 1. Etude sur Binary AlphaDigit"
   ]
  },
  {
   "cell_type": "markdown",
   "metadata": {},
   "source": [
    "### 1.1. RBM"
   ]
  },
  {
   "cell_type": "code",
   "execution_count": 14,
   "metadata": {},
   "outputs": [],
   "source": [
    "#Cahrge les données\n",
    "data_path = \"data/\"\n",
    "alphadigs_path = data_path + \"binaryalphadigs.mat\"\n",
    "\n",
    "indices = [3]\n",
    "p, q = 320, 30\n",
    "nb_iter = 200\n",
    "alpha = 0.1\n",
    "batch_size = 10\n",
    "nb_iter_gibbs = 1000"
   ]
  },
  {
   "cell_type": "code",
   "execution_count": 15,
   "metadata": {},
   "outputs": [
    {
     "data": {
      "text/plain": [
       "(39, 320)"
      ]
     },
     "execution_count": 15,
     "metadata": {},
     "output_type": "execute_result"
    }
   ],
   "source": [
    "X = lire_alpha_digit(alphadigs_path, indices) \n",
    "X.shape"
   ]
  },
  {
   "cell_type": "code",
   "execution_count": 16,
   "metadata": {},
   "outputs": [
    {
     "name": "stdout",
     "output_type": "stream",
     "text": [
      "Iteration RBM (0/200) \t  MSE : 0.1745\n",
      "Iteration RBM (100/200) \t  MSE : 0.0752\n"
     ]
    },
    {
     "data": {
      "image/png": "[encoded data removed]",
      "text/plain": [
       "<Figure size 1080x216 with 3 Axes>"
      ]
     },
     "metadata": {},
     "output_type": "display_data"
    }
   ],
   "source": [
    "#RBM\n",
    "#initialisation\n",
    "rbm = RBM(p, q)\n",
    "#train\n",
    "rbm, losses = train_RBM(rbm, X, nb_iter, batch_size, alpha)\n",
    "#Test\n",
    "imgs = generer_image_RBM(rbm, nb_iter_gibbs, 3, indices)"
   ]
  },
  {
   "cell_type": "markdown",
   "metadata": {},
   "source": [
    "### 1.2. DBN"
   ]
  },
  {
   "cell_type": "code",
   "execution_count": 17,
   "metadata": {},
   "outputs": [],
   "source": [
    "# Parameters\n",
    "idx = [6, 33]\n",
    "data = lire_alpha_digit(alphadigs_path, idx)\n",
    "dim_inp = data.shape[1]\n",
    "dim_out = 200\n",
    "dim_hid_lst = [230, 350, 220]\n",
    "batch_size = 15\n",
    "n_iter = 50\n",
    "lr = 0.01"
   ]
  },
  {
   "cell_type": "code",
   "execution_count": 18,
   "metadata": {},
   "outputs": [
    {
     "name": "stdout",
     "output_type": "stream",
     "text": [
      "Pré-entrainement de la couche (1/4) du DNN\n",
      "Iteration RBM (0/50) \t  MSE : 0.1827\n",
      "Pré-entrainement de la couche (2/4) du DNN\n",
      "Iteration RBM (0/50) \t  MSE : 0.0937\n",
      "Pré-entrainement de la couche (3/4) du DNN\n",
      "Iteration RBM (0/50) \t  MSE : 0.0688\n",
      "Pré-entrainement de la couche (4/4) du DNN\n",
      "Iteration RBM (0/50) \t  MSE : 0.0876\n"
     ]
    },
    {
     "data": {
      "image/png": "[encoded data removed]",
      "text/plain": [
       "<Figure size 1080x216 with 4 Axes>"
      ]
     },
     "metadata": {},
     "output_type": "display_data"
    }
   ],
   "source": [
    "dnn = DNN(dim_inp, dim_out, dim_hid_lst)\n",
    "dnn_trained = pretrain_DNN(dnn, data, n_iter, batch_size, lr)\n",
    "images = generer_image_DBN(dnn_trained, n_imgs=4, n_iter=n_iter, indices=idx)"
   ]
  },
  {
   "cell_type": "markdown",
   "metadata": {},
   "source": [
    "## 2. Etude sur MNIST"
   ]
  },
  {
   "cell_type": "markdown",
   "metadata": {},
   "source": [
    "### 2.1. Preprocessing des données"
   ]
  },
  {
   "cell_type": "code",
   "execution_count": 19,
   "metadata": {},
   "outputs": [],
   "source": [
    "mnist_train_file = 'train-images.idx3-ubyte'\n",
    "mnist_train_label_file = 'train-labels.idx1-ubyte'\n",
    "mnist_test_file = 't10k-images.idx3-ubyte'\n",
    "mnist_test_label_file = 't10k-labels.idx1-ubyte'"
   ]
  },
  {
   "cell_type": "code",
   "execution_count": 21,
   "metadata": {},
   "outputs": [],
   "source": [
    "def get_MNIST_data():\n",
    "  # Lire les fichiers\n",
    "  X_train = convert_from_file(data_path + mnist_train_file)\n",
    "  y_train = convert_from_file(data_path + mnist_train_label_file)\n",
    "  X_test = convert_from_file(data_path + mnist_test_file)\n",
    "  y_test = convert_from_file(data_path + mnist_test_label_file)\n",
    "\n",
    "  # Pour chaque image on convertit la matrice correspondante en vecteur\n",
    "  X_train = np.array([img.flatten() for img in X_train])\n",
    "  X_test = np.array([img.flatten() for img in X_test])\n",
    "\n",
    "  # Binariser les images\n",
    "  X_train = 1 * (X_train > 127) \n",
    "  X_test = 1 * (X_test > 127) \n",
    "\n",
    "  # Formatter les labels\n",
    "  def encode_labels(y):\n",
    "\t# Pour chaque image le label est un entier\n",
    "\t# on le transforme en vecteur dont les éléments\n",
    "\t# valent 0 sauf celui à l'indice du label qui vaut 1\n",
    "    n = y.shape[0]\n",
    "    y_ = np.zeros((n, y.max() + 1)) \n",
    "    y_[np.arange(n), y] = 1\n",
    "    return y_\n",
    "\n",
    "  y_train = encode_labels(y_train)\n",
    "  y_test = encode_labels(y_test)\n",
    "\n",
    "  # On mélange les données\n",
    "  X_train, y_train = shuffle(X_train, y_train)\n",
    "  X_test, y_test = shuffle(X_test, y_test)\n",
    "\n",
    "  return X_train, y_train, X_test, y_test"
   ]
  },
  {
   "cell_type": "code",
   "execution_count": 22,
   "metadata": {},
   "outputs": [
    {
     "name": "stdout",
     "output_type": "stream",
     "text": [
      "Dimension de X_train : (60000, 784)\n",
      "Dimension de y_train : (60000, 10)\n",
      "--------------------------------------------------\n",
      "Dimension de X_test : (10000, 784)\n",
      "Dimension de y_test : (10000, 10)\n"
     ]
    }
   ],
   "source": [
    "X_train, y_train, X_test, y_test = get_MNIST_data()\n",
    "\n",
    "print(\"Dimension de X_train :\", X_train.shape)\n",
    "print(\"Dimension de y_train :\", y_train.shape)\n",
    "print('-' * 50)\n",
    "print(\"Dimension de X_test :\", X_test.shape)\n",
    "print(\"Dimension de y_test :\", y_test.shape)"
   ]
  },
  {
   "cell_type": "markdown",
   "metadata": {},
   "source": [
    "### 2.2. Définition d'une classe pour l'analyse"
   ]
  },
  {
   "cell_type": "code",
   "execution_count": 23,
   "metadata": {},
   "outputs": [],
   "source": [
    "# Paramètres\n",
    "n_iter_rbm = 50               # nbre d'itérations pour les RBM\n",
    "n_iter_backprop = 100          # dnn iterations\n",
    "learning_rate = 0.1            # learning rate\n",
    "batch_size = 32                # batch size\n",
    "\n",
    "in_dim = X_train.shape[1]      # taille d'une image\n",
    "out_dim = 10                   # nbre de classes du MNIST dataset\n",
    "\n",
    "N_total = X_train.shape[0]     # taille des données d'apprentissage"
   ]
  },
  {
   "cell_type": "code",
   "execution_count": 24,
   "metadata": {},
   "outputs": [],
   "source": [
    "class SingleAnalysis():\n",
    "\n",
    "    def __init__(self, N=N_total, hidden_dims=[200, 200], n_iter_rbm=n_iter_rbm, n_iter_backprop=n_iter_backprop,\n",
    "        learning_rate=learning_rate, batch_size=batch_size, out_dim=out_dim):\n",
    "\n",
    "        print(f\"ANALYSE DES RESEAUX POUR N = {N} et les couches {hidden_dims}\")\n",
    "        print('-' * 100)\n",
    "        self.hidden_dims = hidden_dims\n",
    "        self.N = N                          # taille des données pour l'apprentissage\n",
    "        n = int(self.N / 5)                 # taille des données pour le pré-apprentissage\n",
    "\n",
    "        # Initialisation des données d'apprentissage\n",
    "        X_train_ = X_train[:self.N, :]\n",
    "        y_train_ = y_train[:self.N, :]\n",
    "\n",
    "        # Initialisation de deux réseaux identiques\n",
    "        self.pretrained_dnn = DNN(in_dim, out_dim, hidden_dims)\n",
    "        self.dnn = DNN(in_dim, out_dim, hidden_dims)\n",
    "\n",
    "        print(\"Pré-apprentissage du premier réseau\")\n",
    "        print('-' * 70)\n",
    "        self.pretrained_dnn = pretrain_DNN(dnn=self.pretrained_dnn, X=X_train_[:n], \n",
    "                                    nb_iter=n_iter_rbm,\n",
    "                                    batch_size=batch_size,\n",
    "                                    learning_rate=learning_rate\n",
    "        )\n",
    "\n",
    "        print(\"\\n Apprentissage du premier réseau\")\n",
    "        print('-' * 70)\n",
    "        self.pretrained_dnn, pretrained_losses = retropropagation(dnn=self.pretrained_dnn,\n",
    "                                                        X=X_train_, y=y_train_,\n",
    "                                                        batch_size=batch_size,\n",
    "                                                        n_iter=n_iter_backprop,\n",
    "                                                        learning_rate=learning_rate\n",
    "        )\n",
    "\n",
    "        print(\"\\n Apprentissage du deuxième réseau\")\n",
    "        print('-' * 70)\n",
    "        self.dnn, losses = retropropagation(dnn=self.dnn, X=X_train_, y=y_train_,\n",
    "                                    batch_size=batch_size,\n",
    "                                    n_iter=n_iter_backprop,\n",
    "                                    learning_rate=learning_rate\n",
    "        )\n",
    "\n",
    "        self.final_loss = losses[-1]\n",
    "        self.pre_final_loss = pretrained_losses[-1]\n",
    "\n",
    "        # Calcul du taux d'erreur sur les données d'apprentissage\n",
    "        self.pre_acc_train = test_DNN(dnn=self.pretrained_dnn, X=X_train, y=y_train)\n",
    "        self.acc_train = test_DNN(dnn=self.dnn, X=X_train, y=y_train)\n",
    "\n",
    "        # Calcul du taux d'erreur sur les données de test\n",
    "        self.pre_acc_test = test_DNN(dnn=self.pretrained_dnn, X=X_test, y=y_test)\n",
    "        self.acc_test = test_DNN(dnn=self.dnn, X=X_test, y=y_test)\n",
    "\n",
    "    def performance(self):\n",
    "        return self.pre_acc_train, self.acc_train, self.pre_acc_test, self.acc_test\n"
   ]
  },
  {
   "cell_type": "markdown",
   "metadata": {},
   "source": [
    "### 2.3. Exemple pour $N=1000$ et $hidden\\_dims=[200, 200]$"
   ]
  },
  {
   "cell_type": "code",
   "execution_count": 25,
   "metadata": {},
   "outputs": [],
   "source": [
    "# ex_analysis = SingleAnalysis(N=1000)"
   ]
  },
  {
   "cell_type": "markdown",
   "metadata": {},
   "source": [
    "On obtient les performances suivantes:"
   ]
  },
  {
   "cell_type": "code",
   "execution_count": 26,
   "metadata": {},
   "outputs": [],
   "source": [
    "# print(\"Réseau pré-entraîné\")\n",
    "# print('-' * 30)\n",
    "# print(f\"Cross-entropy train : {ex_analysis.pre_final_loss:.4f}\")\n",
    "# print(f\"Train Accuracy : {(ex_analysis.pre_acc_train)*100 : .2f} %\")\n",
    "# print(f\"Test Accuracy : {(ex_analysis.pre_acc_test)*100 : .2f} % \\n\")\n",
    "\n",
    "# print(\"Réseau entraîné\")\n",
    "# print('-' * 30)\n",
    "# print(f\"Cross-entropy train : {ex_analysis.final_loss:.4f}\")\n",
    "# print(f\"Train Accuracy : {(ex_analysis.acc_train)*100 : .2f} %\")\n",
    "# print(f\"Test Accuracy : {(ex_analysis.acc_test)*100 : .2f} % \\n\")"
   ]
  },
  {
   "cell_type": "markdown",
   "metadata": {},
   "source": [
    "Meilleures performances pour le réseau pré-entraîné."
   ]
  },
  {
   "cell_type": "code",
   "execution_count": 27,
   "metadata": {},
   "outputs": [],
   "source": [
    "columns = [\n",
    "    \"Train Accuracy (pretrained)\",\n",
    "    \"Train Accuracy\",\n",
    "    \"Test Accuracy (pretrained)\",\n",
    "    \"Test Accuracy\",\n",
    "]"
   ]
  },
  {
   "cell_type": "markdown",
   "metadata": {},
   "source": [
    "### 2.4. Analyse de l'influence du nombre de couches cachées"
   ]
  },
  {
   "cell_type": "code",
   "execution_count": 37,
   "metadata": {},
   "outputs": [],
   "source": [
    "class AnalysisNLayers():\n",
    "\n",
    "    def __init__(self, n_layer_list):\n",
    "        self.n_layer_list = n_layer_list\n",
    "\n",
    "        # initialisation d'un dataframe pour les results\n",
    "        self.results = pd.DataFrame(\n",
    "            index = n_layer_list,\n",
    "            columns = columns\n",
    "        ).rename_axis(\"n_layers\")\n",
    "\n",
    "        # Pour chaque valeur dans la liste n_layer_list\n",
    "        for n_layer in n_layer_list:\n",
    "            hidden_dims = [200] * n_layer\n",
    "            analysis_ = SingleAnalysis(hidden_dims=hidden_dims)\n",
    "            performance_analysis = analysis_.performance()\n",
    "            self.results.loc[n_layer] = performance_analysis\n",
    "    \n",
    "    def plot_train_results(self):\n",
    "        sns.lineplot(data=self.results, x=self.results.index,\n",
    "                    y=\"Train Accuracy (pretrained)\",\n",
    "                    label=\"Train Accuracy (pretrained)\"\n",
    "        )\n",
    "        sns.lineplot(data=self.results, x=self.results.index,\n",
    "                    y=\"Train Accuracy\",\n",
    "                    label=\"Train Accuracy\"\n",
    "        )\n",
    "        plt.title(\"Taux d'erreur sur les données d'apprentissage en fonction du nombre de couche\")\n",
    "        plt.show()\n",
    "\n",
    "    def plot_test_results(self):\n",
    "        sns.lineplot(data=self.results, x=self.results.index,\n",
    "                    y=\"Test Accuracy (pretrained)\",\n",
    "                    label=\"Test Accuracy (pretrained)\"\n",
    "        )\n",
    "        sns.lineplot(data=self.results, x=self.results.index,\n",
    "                    y=\"Test Accuracy\",\n",
    "                    label=\"Test Accuracy\"\n",
    "        )\n",
    "        plt.title(\"Taux d'erreur sur les données de test en fonction du nombre de couche\")\n",
    "        plt.show()"
   ]
  },
  {
   "cell_type": "code",
   "execution_count": 38,
   "metadata": {},
   "outputs": [
    {
     "name": "stdout",
     "output_type": "stream",
     "text": [
      "ANALYSE DES RESEAUX POUR N = 60000 et les couches [200, 200]\n",
      "----------------------------------------------------------------------------------------------------\n",
      "Pré-apprentissage du premier réseau\n",
      "----------------------------------------------------------------------\n",
      "Pré-entrainement de la couche (1/3) du DNN\n",
      "Iteration RBM (0/50) \t  MSE : 0.0330\n",
      "Pré-entrainement de la couche (2/3) du DNN\n",
      "Iteration RBM (0/50) \t  MSE : 0.0613\n",
      "Pré-entrainement de la couche (3/3) du DNN\n",
      "Iteration RBM (0/50) \t  MSE : 0.0925\n",
      "\n",
      " Apprentissage du premier réseau\n",
      "----------------------------------------------------------------------\n",
      "Iteration Rétropropagation (0/100) \t cross_entropy : 0.4433\n"
     ]
    }
   ],
   "source": [
    "analysis_n_layers = AnalysisNLayers(range(2,6))"
   ]
  },
  {
   "cell_type": "code",
   "execution_count": null,
   "metadata": {},
   "outputs": [],
   "source": [
    "analysis_n_layers.plot_train_results()"
   ]
  },
  {
   "cell_type": "code",
   "execution_count": null,
   "metadata": {},
   "outputs": [],
   "source": [
    "analysis_n_layers.plot_test_results()"
   ]
  },
  {
   "cell_type": "code",
   "execution_count": null,
   "metadata": {},
   "outputs": [],
   "source": []
  },
  {
   "cell_type": "markdown",
   "metadata": {},
   "source": [
    "### 2.5. Analyse de l'influence du nombre de neurones par couche"
   ]
  },
  {
   "cell_type": "code",
   "execution_count": 41,
   "metadata": {},
   "outputs": [],
   "source": [
    "class AnalysisNUnits():\n",
    "\n",
    "    def __init__(self, n_units_list):\n",
    "        self.n_units_list = n_units_list\n",
    "\n",
    "        # initialisation d'un dataframe pour les results\n",
    "        self.results = pd.DataFrame(\n",
    "            index = n_units_list,\n",
    "            columns = columns\n",
    "        ).rename_axis(\"n_units\")\n",
    "\n",
    "        # Pour chaque valeur dans la liste n_units_list\n",
    "        for n_units in n_units_list:\n",
    "            hidden_dims = [n_units] * 2\n",
    "            analysis_ = SingleAnalysis(hidden_dims=hidden_dims)\n",
    "            performance_analysis = analysis_.performance()\n",
    "            self.results.loc[n_units] = performance_analysis\n",
    "    \n",
    "    def plot_train_results(self):\n",
    "        sns.lineplot(data=self.results, x=self.results.index,\n",
    "                    y=\"Train Accuracy (pretrained)\",\n",
    "                    label=\"Train Accuracy (pretrained)\"\n",
    "        )\n",
    "        sns.lineplot(data=self.results, x=self.results.index,\n",
    "                    y=\"Train Accuracy\",\n",
    "                    label=\"Train Accuracy\"\n",
    "        )\n",
    "        plt.title(\"Taux d'erreur sur les données d'apprentissage en fonction du nombre de neurones par couche\")\n",
    "        plt.show()\n",
    "\n",
    "    def plot_test_results(self):\n",
    "        sns.lineplot(data=self.results, x=self.results.index,\n",
    "                    y=\"Test Accuracy (pretrained)\",\n",
    "                    label=\"Test Accuracy (pretrained)\"\n",
    "        )\n",
    "        sns.lineplot(data=self.results, x=self.results.index,\n",
    "                    y=\"Test Accuracy\",\n",
    "                    label=\"Test Accuracy\"\n",
    "        )\n",
    "        plt.title(\"Taux d'erreur sur les données de test en fonction du nombre de neurones par couche\")\n",
    "        plt.show()"
   ]
  },
  {
   "cell_type": "code",
   "execution_count": null,
   "metadata": {},
   "outputs": [
    {
     "name": "stdout",
     "output_type": "stream",
     "text": [
      "ANALYSE DES RESEAUX POUR N = 60000 et les couches [100, 100]\n",
      "----------------------------------------------------------------------------------------------------\n",
      "Pré-apprentissage du premier réseau\n",
      "----------------------------------------------------------------------\n",
      "Pré-entrainement de la couche (1/3) du DNN\n",
      "Iteration RBM (0/50) \t  MSE : 0.0409\n",
      "Pré-entrainement de la couche (2/3) du DNN\n",
      "Iteration RBM (0/50) \t  MSE : 0.0882\n",
      "Pré-entrainement de la couche (3/3) du DNN\n",
      "Iteration RBM (0/50) \t  MSE : 0.0897\n",
      "\n",
      " Apprentissage du premier réseau\n",
      "----------------------------------------------------------------------\n",
      "Iteration Rétropropagation (0/100) \t cross_entropy : 0.4458\n",
      "Iteration Rétropropagation (10/100) \t cross_entropy : 0.1516\n",
      "Iteration Rétropropagation (20/100) \t cross_entropy : 0.1050\n",
      "Iteration Rétropropagation (30/100) \t cross_entropy : 0.0760\n",
      "Iteration Rétropropagation (40/100) \t cross_entropy : 0.0593\n",
      "Iteration Rétropropagation (50/100) \t cross_entropy : 0.0480\n",
      "Iteration Rétropropagation (60/100) \t cross_entropy : 0.0375\n",
      "Iteration Rétropropagation (70/100) \t cross_entropy : 0.0306\n",
      "Iteration Rétropropagation (80/100) \t cross_entropy : 0.0247\n",
      "Iteration Rétropropagation (90/100) \t cross_entropy : 0.0207\n",
      "\n",
      " Apprentissage du deuxième réseau\n",
      "----------------------------------------------------------------------\n",
      "Iteration Rétropropagation (0/100) \t cross_entropy : 0.3999\n",
      "Iteration Rétropropagation (10/100) \t cross_entropy : 0.0944\n",
      "Iteration Rétropropagation (20/100) \t cross_entropy : 0.0394\n",
      "Iteration Rétropropagation (30/100) \t cross_entropy : 0.0194\n",
      "Iteration Rétropropagation (40/100) \t cross_entropy : 0.0100\n",
      "Iteration Rétropropagation (50/100) \t cross_entropy : 0.0055\n",
      "Iteration Rétropropagation (60/100) \t cross_entropy : 0.0035\n",
      "Iteration Rétropropagation (70/100) \t cross_entropy : 0.0025\n",
      "Iteration Rétropropagation (80/100) \t cross_entropy : 0.0019\n",
      "Iteration Rétropropagation (90/100) \t cross_entropy : 0.0015\n",
      "ANALYSE DES RESEAUX POUR N = 60000 et les couches [200, 200]\n",
      "----------------------------------------------------------------------------------------------------\n",
      "Pré-apprentissage du premier réseau\n",
      "----------------------------------------------------------------------\n",
      "Pré-entrainement de la couche (1/3) du DNN\n",
      "Iteration RBM (0/50) \t  MSE : 0.0329\n",
      "Pré-entrainement de la couche (2/3) du DNN\n",
      "Iteration RBM (0/50) \t  MSE : 0.0616\n",
      "Pré-entrainement de la couche (3/3) du DNN\n",
      "Iteration RBM (0/50) \t  MSE : 0.0936\n",
      "\n",
      " Apprentissage du premier réseau\n",
      "----------------------------------------------------------------------\n",
      "Iteration Rétropropagation (0/100) \t cross_entropy : 0.4164\n",
      "Iteration Rétropropagation (10/100) \t cross_entropy : 0.1154\n",
      "Iteration Rétropropagation (20/100) \t cross_entropy : 0.0689\n",
      "Iteration Rétropropagation (30/100) \t cross_entropy : 0.0454\n",
      "Iteration Rétropropagation (40/100) \t cross_entropy : 0.0311\n",
      "Iteration Rétropropagation (50/100) \t cross_entropy : 0.0221\n",
      "Iteration Rétropropagation (60/100) \t cross_entropy : 0.0158\n",
      "Iteration Rétropropagation (70/100) \t cross_entropy : 0.0118\n",
      "Iteration Rétropropagation (80/100) \t cross_entropy : 0.0091\n",
      "Iteration Rétropropagation (90/100) \t cross_entropy : 0.0072\n",
      "\n",
      " Apprentissage du deuxième réseau\n",
      "----------------------------------------------------------------------\n",
      "Iteration Rétropropagation (0/100) \t cross_entropy : 0.3523\n",
      "Iteration Rétropropagation (10/100) \t cross_entropy : 0.1030\n",
      "Iteration Rétropropagation (20/100) \t cross_entropy : 0.0401\n",
      "Iteration Rétropropagation (30/100) \t cross_entropy : 0.0171\n",
      "Iteration Rétropropagation (40/100) \t cross_entropy : 0.0090\n",
      "Iteration Rétropropagation (50/100) \t cross_entropy : 0.0044\n",
      "Iteration Rétropropagation (60/100) \t cross_entropy : 0.0028\n",
      "Iteration Rétropropagation (70/100) \t cross_entropy : 0.0021\n",
      "Iteration Rétropropagation (80/100) \t cross_entropy : 0.0016\n",
      "Iteration Rétropropagation (90/100) \t cross_entropy : 0.0012\n",
      "ANALYSE DES RESEAUX POUR N = 60000 et les couches [300, 300]\n",
      "----------------------------------------------------------------------------------------------------\n",
      "Pré-apprentissage du premier réseau\n",
      "----------------------------------------------------------------------\n",
      "Pré-entrainement de la couche (1/3) du DNN\n",
      "Iteration RBM (0/50) \t  MSE : 0.0290\n",
      "Pré-entrainement de la couche (2/3) du DNN\n",
      "Iteration RBM (0/50) \t  MSE : 0.0489\n",
      "Pré-entrainement de la couche (3/3) du DNN\n",
      "Iteration RBM (0/50) \t  MSE : 0.0869\n",
      "\n",
      " Apprentissage du premier réseau\n",
      "----------------------------------------------------------------------\n",
      "Iteration Rétropropagation (0/100) \t cross_entropy : 0.4119\n",
      "Iteration Rétropropagation (10/100) \t cross_entropy : 0.1049\n",
      "Iteration Rétropropagation (20/100) \t cross_entropy : 0.0574\n",
      "Iteration Rétropropagation (30/100) \t cross_entropy : 0.0356\n",
      "Iteration Rétropropagation (40/100) \t cross_entropy : 0.0230\n",
      "Iteration Rétropropagation (50/100) \t cross_entropy : 0.0156\n"
     ]
    }
   ],
   "source": [
    "analysis_n_units_2_5 = AnalysisNUnits(range(100, 800, 100))"
   ]
  },
  {
   "cell_type": "code",
   "execution_count": null,
   "metadata": {},
   "outputs": [],
   "source": [
    "analysis_n_units.plot_train_results()"
   ]
  },
  {
   "cell_type": "code",
   "execution_count": null,
   "metadata": {},
   "outputs": [],
   "source": [
    "analysis_n_units.plot_test_results()"
   ]
  },
  {
   "cell_type": "code",
   "execution_count": null,
   "metadata": {},
   "outputs": [],
   "source": []
  },
  {
   "cell_type": "markdown",
   "metadata": {},
   "source": [
    "### 2.6. Analyse de l'influence de la taille des données d'entraînement"
   ]
  },
  {
   "cell_type": "code",
   "execution_count": 28,
   "metadata": {},
   "outputs": [],
   "source": [
    "class AnalysisNTrain():\n",
    "\n",
    "    def __init__(self, n_train_list):\n",
    "        self.n_train_list = n_train_list\n",
    "\n",
    "        # initialisation d'un dataframe pour les results\n",
    "        self.results = pd.DataFrame(\n",
    "            index = n_train_list,\n",
    "            columns = columns\n",
    "        ).rename_axis(\"n_train\")\n",
    "\n",
    "        # Pour chaque valeur dans la liste n_train_list\n",
    "        for n_train in n_train_list:\n",
    "            analysis_ = SingleAnalysis(N=n_train)\n",
    "            performance_analysis = analysis_.performance()\n",
    "            self.results.loc[n_train] = performance_analysis\n",
    "    \n",
    "    def plot_train_results(self):\n",
    "        sns.lineplot(data=self.results, x=self.results.index,\n",
    "                    y=\"Train Accuracy (pretrained)\",\n",
    "                    label=\"Train Accuracy (pretrained)\"\n",
    "        )\n",
    "        sns.lineplot(data=self.results, x=self.results.index,\n",
    "                    y=\"Train Accuracy\",\n",
    "                    label=\"Train Accuracy\"\n",
    "        )\n",
    "        plt.title(\"Taux d'erreur sur les données d'apprentissage en fonction de leur taille\")\n",
    "        plt.show()\n",
    "\n",
    "    def plot_test_results(self):\n",
    "        sns.lineplot(data=self.results, x=self.results.index,\n",
    "                    y=\"Test Accuracy (pretrained)\",\n",
    "                    label=\"Test Accuracy (pretrained)\"\n",
    "        )\n",
    "        sns.lineplot(data=self.results, x=self.results.index,\n",
    "                    y=\"Test Accuracy\",\n",
    "                    label=\"Test Accuracy\"\n",
    "        )\n",
    "        plt.title(\"Taux d'erreur sur les données de test en fonction de la taille des données d'apprentissage\")\n",
    "        plt.show()"
   ]
  },
  {
   "cell_type": "code",
   "execution_count": 29,
   "metadata": {},
   "outputs": [
    {
     "name": "stdout",
     "output_type": "stream",
     "text": [
      "ANALYSE DES RESEAUX POUR N = 1000 et les couches [200, 200]\n",
      "----------------------------------------------------------------------------------------------------\n",
      "Pré-apprentissage du premier réseau\n",
      "----------------------------------------------------------------------\n",
      "Pré-entrainement de la couche (1/3) du DNN\n",
      "Iteration RBM (0/50) \t  MSE : 0.0886\n",
      "Pré-entrainement de la couche (2/3) du DNN\n",
      "Iteration RBM (0/50) \t  MSE : 0.1439\n",
      "Pré-entrainement de la couche (3/3) du DNN\n",
      "Iteration RBM (0/50) \t  MSE : 0.1524\n",
      "\n",
      " Apprentissage du premier réseau\n",
      "----------------------------------------------------------------------\n",
      "Iteration Rétropropagation (0/100) \t cross_entropy : 5.1858\n",
      "Iteration Rétropropagation (10/100) \t cross_entropy : 0.6316\n",
      "Iteration Rétropropagation (20/100) \t cross_entropy : 0.3978\n",
      "Iteration Rétropropagation (30/100) \t cross_entropy : 0.2801\n",
      "Iteration Rétropropagation (40/100) \t cross_entropy : 0.2108\n",
      "Iteration Rétropropagation (50/100) \t cross_entropy : 0.1617\n",
      "Iteration Rétropropagation (60/100) \t cross_entropy : 0.1286\n",
      "Iteration Rétropropagation (70/100) \t cross_entropy : 0.1027\n",
      "Iteration Rétropropagation (80/100) \t cross_entropy : 0.0833\n",
      "Iteration Rétropropagation (90/100) \t cross_entropy : 0.0685\n",
      "\n",
      " Apprentissage du deuxième réseau\n",
      "----------------------------------------------------------------------\n",
      "Iteration Rétropropagation (0/100) \t cross_entropy : 2.5780\n",
      "Iteration Rétropropagation (10/100) \t cross_entropy : 0.9693\n",
      "Iteration Rétropropagation (20/100) \t cross_entropy : 0.4887\n",
      "Iteration Rétropropagation (30/100) \t cross_entropy : 0.3320\n",
      "Iteration Rétropropagation (40/100) \t cross_entropy : 0.2291\n",
      "Iteration Rétropropagation (50/100) \t cross_entropy : 0.1698\n",
      "Iteration Rétropropagation (60/100) \t cross_entropy : 0.1256\n",
      "Iteration Rétropropagation (70/100) \t cross_entropy : 0.1027\n",
      "Iteration Rétropropagation (80/100) \t cross_entropy : 0.0721\n",
      "Iteration Rétropropagation (90/100) \t cross_entropy : 0.0548\n",
      "ANALYSE DES RESEAUX POUR N = 3000 et les couches [200, 200]\n",
      "----------------------------------------------------------------------------------------------------\n",
      "Pré-apprentissage du premier réseau\n",
      "----------------------------------------------------------------------\n",
      "Pré-entrainement de la couche (1/3) du DNN\n",
      "Iteration RBM (0/50) \t  MSE : 0.0622\n",
      "Pré-entrainement de la couche (2/3) du DNN\n",
      "Iteration RBM (0/50) \t  MSE : 0.1260\n",
      "Pré-entrainement de la couche (3/3) du DNN\n",
      "Iteration RBM (0/50) \t  MSE : 0.1407\n",
      "\n",
      " Apprentissage du premier réseau\n",
      "----------------------------------------------------------------------\n",
      "Iteration Rétropropagation (0/100) \t cross_entropy : 2.1406\n",
      "Iteration Rétropropagation (10/100) \t cross_entropy : 0.3836\n",
      "Iteration Rétropropagation (20/100) \t cross_entropy : 0.2364\n",
      "Iteration Rétropropagation (30/100) \t cross_entropy : 0.1671\n",
      "Iteration Rétropropagation (40/100) \t cross_entropy : 0.1232\n",
      "Iteration Rétropropagation (50/100) \t cross_entropy : 0.0929\n",
      "Iteration Rétropropagation (60/100) \t cross_entropy : 0.0721\n",
      "Iteration Rétropropagation (70/100) \t cross_entropy : 0.0574\n",
      "Iteration Rétropropagation (80/100) \t cross_entropy : 0.0465\n",
      "Iteration Rétropropagation (90/100) \t cross_entropy : 0.0386\n",
      "\n",
      " Apprentissage du deuxième réseau\n",
      "----------------------------------------------------------------------\n",
      "Iteration Rétropropagation (0/100) \t cross_entropy : 2.1078\n",
      "Iteration Rétropropagation (10/100) \t cross_entropy : 0.3999\n",
      "Iteration Rétropropagation (20/100) \t cross_entropy : 0.2593\n",
      "Iteration Rétropropagation (30/100) \t cross_entropy : 0.1816\n",
      "Iteration Rétropropagation (40/100) \t cross_entropy : 0.1357\n",
      "Iteration Rétropropagation (50/100) \t cross_entropy : 0.0927\n",
      "Iteration Rétropropagation (60/100) \t cross_entropy : 0.0672\n",
      "Iteration Rétropropagation (70/100) \t cross_entropy : 0.0537\n",
      "Iteration Rétropropagation (80/100) \t cross_entropy : 0.0352\n",
      "Iteration Rétropropagation (90/100) \t cross_entropy : 0.0262\n",
      "ANALYSE DES RESEAUX POUR N = 7000 et les couches [200, 200]\n",
      "----------------------------------------------------------------------------------------------------\n",
      "Pré-apprentissage du premier réseau\n",
      "----------------------------------------------------------------------\n",
      "Pré-entrainement de la couche (1/3) du DNN\n",
      "Iteration RBM (0/50) \t  MSE : 0.0536\n",
      "Pré-entrainement de la couche (2/3) du DNN\n",
      "Iteration RBM (0/50) \t  MSE : 0.1027\n",
      "Pré-entrainement de la couche (3/3) du DNN\n",
      "Iteration RBM (0/50) \t  MSE : 0.1286\n",
      "\n",
      " Apprentissage du premier réseau\n",
      "----------------------------------------------------------------------\n",
      "Iteration Rétropropagation (0/100) \t cross_entropy : 1.0459\n",
      "Iteration Rétropropagation (10/100) \t cross_entropy : 0.2423\n",
      "Iteration Rétropropagation (20/100) \t cross_entropy : 0.1477\n",
      "Iteration Rétropropagation (30/100) \t cross_entropy : 0.0985\n",
      "Iteration Rétropropagation (40/100) \t cross_entropy : 0.0704\n",
      "Iteration Rétropropagation (50/100) \t cross_entropy : 0.0519\n",
      "Iteration Rétropropagation (60/100) \t cross_entropy : 0.0393\n",
      "Iteration Rétropropagation (70/100) \t cross_entropy : 0.0308\n",
      "Iteration Rétropropagation (80/100) \t cross_entropy : 0.0248\n",
      "Iteration Rétropropagation (90/100) \t cross_entropy : 0.0204\n",
      "\n",
      " Apprentissage du deuxième réseau\n",
      "----------------------------------------------------------------------\n",
      "Iteration Rétropropagation (0/100) \t cross_entropy : 1.4497\n",
      "Iteration Rétropropagation (10/100) \t cross_entropy : 0.2842\n",
      "Iteration Rétropropagation (20/100) \t cross_entropy : 0.2003\n",
      "Iteration Rétropropagation (30/100) \t cross_entropy : 0.1369\n",
      "Iteration Rétropropagation (40/100) \t cross_entropy : 0.0854\n",
      "Iteration Rétropropagation (50/100) \t cross_entropy : 0.0594\n",
      "Iteration Rétropropagation (60/100) \t cross_entropy : 0.0340\n",
      "Iteration Rétropropagation (70/100) \t cross_entropy : 0.0246\n",
      "Iteration Rétropropagation (80/100) \t cross_entropy : 0.0186\n",
      "Iteration Rétropropagation (90/100) \t cross_entropy : 0.0122\n",
      "ANALYSE DES RESEAUX POUR N = 10000 et les couches [200, 200]\n",
      "----------------------------------------------------------------------------------------------------\n",
      "Pré-apprentissage du premier réseau\n",
      "----------------------------------------------------------------------\n",
      "Pré-entrainement de la couche (1/3) du DNN\n",
      "Iteration RBM (0/50) \t  MSE : 0.0499\n",
      "Pré-entrainement de la couche (2/3) du DNN\n",
      "Iteration RBM (0/50) \t  MSE : 0.0956\n",
      "Pré-entrainement de la couche (3/3) du DNN\n",
      "Iteration RBM (0/50) \t  MSE : 0.1267\n",
      "\n",
      " Apprentissage du premier réseau\n",
      "----------------------------------------------------------------------\n",
      "Iteration Rétropropagation (0/100) \t cross_entropy : 0.9038\n",
      "Iteration Rétropropagation (10/100) \t cross_entropy : 0.2111\n",
      "Iteration Rétropropagation (20/100) \t cross_entropy : 0.1274\n",
      "Iteration Rétropropagation (30/100) \t cross_entropy : 0.0874\n",
      "Iteration Rétropropagation (40/100) \t cross_entropy : 0.0623\n",
      "Iteration Rétropropagation (50/100) \t cross_entropy : 0.0454\n",
      "Iteration Rétropropagation (60/100) \t cross_entropy : 0.0347\n",
      "Iteration Rétropropagation (70/100) \t cross_entropy : 0.0266\n",
      "Iteration Rétropropagation (80/100) \t cross_entropy : 0.0211\n",
      "Iteration Rétropropagation (90/100) \t cross_entropy : 0.0171\n",
      "\n",
      " Apprentissage du deuxième réseau\n",
      "----------------------------------------------------------------------\n",
      "Iteration Rétropropagation (0/100) \t cross_entropy : 1.0805\n",
      "Iteration Rétropropagation (10/100) \t cross_entropy : 0.2508\n",
      "Iteration Rétropropagation (20/100) \t cross_entropy : 0.1859\n",
      "Iteration Rétropropagation (30/100) \t cross_entropy : 0.1175\n",
      "Iteration Rétropropagation (40/100) \t cross_entropy : 0.0699\n",
      "Iteration Rétropropagation (50/100) \t cross_entropy : 0.0404\n",
      "Iteration Rétropropagation (60/100) \t cross_entropy : 0.0245\n",
      "Iteration Rétropropagation (70/100) \t cross_entropy : 0.0159\n",
      "Iteration Rétropropagation (80/100) \t cross_entropy : 0.0114\n",
      "Iteration Rétropropagation (90/100) \t cross_entropy : 0.0080\n",
      "ANALYSE DES RESEAUX POUR N = 30000 et les couches [200, 200]\n",
      "----------------------------------------------------------------------------------------------------\n",
      "Pré-apprentissage du premier réseau\n",
      "----------------------------------------------------------------------\n",
      "Pré-entrainement de la couche (1/3) du DNN\n",
      "Iteration RBM (0/50) \t  MSE : 0.0405\n",
      "Pré-entrainement de la couche (2/3) du DNN\n",
      "Iteration RBM (0/50) \t  MSE : 0.0787\n",
      "Pré-entrainement de la couche (3/3) du DNN\n",
      "Iteration RBM (0/50) \t  MSE : 0.1090\n"
     ]
    },
    {
     "name": "stdout",
     "output_type": "stream",
     "text": [
      "\n",
      " Apprentissage du premier réseau\n",
      "----------------------------------------------------------------------\n",
      "Iteration Rétropropagation (0/100) \t cross_entropy : 0.5173\n",
      "Iteration Rétropropagation (10/100) \t cross_entropy : 0.1461\n",
      "Iteration Rétropropagation (20/100) \t cross_entropy : 0.0871\n",
      "Iteration Rétropropagation (30/100) \t cross_entropy : 0.0567\n",
      "Iteration Rétropropagation (40/100) \t cross_entropy : 0.0382\n",
      "Iteration Rétropropagation (50/100) \t cross_entropy : 0.0266\n",
      "Iteration Rétropropagation (60/100) \t cross_entropy : 0.0198\n",
      "Iteration Rétropropagation (70/100) \t cross_entropy : 0.0147\n",
      "Iteration Rétropropagation (80/100) \t cross_entropy : 0.0116\n",
      "Iteration Rétropropagation (90/100) \t cross_entropy : 0.0092\n",
      "\n",
      " Apprentissage du deuxième réseau\n",
      "----------------------------------------------------------------------\n",
      "Iteration Rétropropagation (0/100) \t cross_entropy : 0.4840\n",
      "Iteration Rétropropagation (10/100) \t cross_entropy : 0.1602\n",
      "Iteration Rétropropagation (20/100) \t cross_entropy : 0.0780\n",
      "Iteration Rétropropagation (30/100) \t cross_entropy : 0.0423\n",
      "Iteration Rétropropagation (40/100) \t cross_entropy : 0.0217\n",
      "Iteration Rétropropagation (50/100) \t cross_entropy : 0.0113\n",
      "Iteration Rétropropagation (60/100) \t cross_entropy : 0.0066\n",
      "Iteration Rétropropagation (70/100) \t cross_entropy : 0.0047\n",
      "Iteration Rétropropagation (80/100) \t cross_entropy : 0.0033\n",
      "Iteration Rétropropagation (90/100) \t cross_entropy : 0.0026\n",
      "ANALYSE DES RESEAUX POUR N = 60000 et les couches [200, 200]\n",
      "----------------------------------------------------------------------------------------------------\n",
      "Pré-apprentissage du premier réseau\n",
      "----------------------------------------------------------------------\n",
      "Pré-entrainement de la couche (1/3) du DNN\n",
      "Iteration RBM (0/50) \t  MSE : 0.0332\n",
      "Pré-entrainement de la couche (2/3) du DNN\n",
      "Iteration RBM (0/50) \t  MSE : 0.0632\n",
      "Pré-entrainement de la couche (3/3) du DNN\n",
      "Iteration RBM (0/50) \t  MSE : 0.0936\n",
      "\n",
      " Apprentissage du premier réseau\n",
      "----------------------------------------------------------------------\n",
      "Iteration Rétropropagation (0/100) \t cross_entropy : 0.3720\n",
      "Iteration Rétropropagation (10/100) \t cross_entropy : 0.1016\n",
      "Iteration Rétropropagation (20/100) \t cross_entropy : 0.0587\n",
      "Iteration Rétropropagation (30/100) \t cross_entropy : 0.0375\n",
      "Iteration Rétropropagation (40/100) \t cross_entropy : 0.0252\n",
      "Iteration Rétropropagation (50/100) \t cross_entropy : 0.0178\n",
      "Iteration Rétropropagation (60/100) \t cross_entropy : 0.0127\n",
      "Iteration Rétropropagation (70/100) \t cross_entropy : 0.0097\n",
      "Iteration Rétropropagation (80/100) \t cross_entropy : 0.0076\n",
      "Iteration Rétropropagation (90/100) \t cross_entropy : 0.0060\n",
      "\n",
      " Apprentissage du deuxième réseau\n",
      "----------------------------------------------------------------------\n",
      "Iteration Rétropropagation (0/100) \t cross_entropy : 0.3525\n",
      "Iteration Rétropropagation (10/100) \t cross_entropy : 0.0986\n",
      "Iteration Rétropropagation (20/100) \t cross_entropy : 0.0406\n",
      "Iteration Rétropropagation (30/100) \t cross_entropy : 0.0282\n",
      "Iteration Rétropropagation (40/100) \t cross_entropy : 0.0083\n",
      "Iteration Rétropropagation (50/100) \t cross_entropy : 0.0043\n",
      "Iteration Rétropropagation (60/100) \t cross_entropy : 0.0030\n",
      "Iteration Rétropropagation (70/100) \t cross_entropy : 0.0021\n",
      "Iteration Rétropropagation (80/100) \t cross_entropy : 0.0015\n",
      "Iteration Rétropropagation (90/100) \t cross_entropy : 0.0013\n"
     ]
    }
   ],
   "source": [
    "n_train_list = [1000, 3000, 7000, 10000, 30000, 60000]\n",
    "analysis_n_train = AnalysisNTrain(n_train_list)"
   ]
  },
  {
   "cell_type": "code",
   "execution_count": 30,
   "metadata": {},
   "outputs": [
    {
     "data": {
      "image/png": "[encoded data removed]",
      "text/plain": [
       "<Figure size 432x288 with 1 Axes>"
      ]
     },
     "metadata": {},
     "output_type": "display_data"
    }
   ],
   "source": [
    "analysis_n_train.plot_test_results()"
   ]
  },
  {
   "cell_type": "code",
   "execution_count": 33,
   "metadata": {},
   "outputs": [],
   "source": [
    "import pickle\n",
    "\n",
    "with open('2_6_out', 'wb') as f1:\n",
    "    pickle.dump(analysis_n_train, f1)"
   ]
  },
  {
   "cell_type": "code",
   "execution_count": 34,
   "metadata": {},
   "outputs": [
    {
     "data": {
      "image/png": "[encoded data removed]",
      "text/plain": [
       "<Figure size 432x288 with 1 Axes>"
      ]
     },
     "metadata": {},
     "output_type": "display_data"
    }
   ],
   "source": [
    "analysis_n_train.plot_train_results()"
   ]
  },
  {
   "cell_type": "code",
   "execution_count": 37,
   "metadata": {},
   "outputs": [
    {
     "data": {
      "text/html": [
       "<div>\n",
       "<style scoped>\n",
       "    .dataframe tbody tr th:only-of-type {\n",
       "        vertical-align: middle;\n",
       "    }\n",
       "\n",
       "    .dataframe tbody tr th {\n",
       "        vertical-align: top;\n",
       "    }\n",
       "\n",
       "    .dataframe thead th {\n",
       "        text-align: right;\n",
       "    }\n",
       "</style>\n",
       "<table border=\"1\" class=\"dataframe\">\n",
       "  <thead>\n",
       "    <tr style=\"text-align: right;\">\n",
       "      <th></th>\n",
       "      <th>Train Accuracy (pretrained)</th>\n",
       "      <th>Train Accuracy</th>\n",
       "      <th>Test Accuracy (pretrained)</th>\n",
       "      <th>Test Accuracy</th>\n",
       "    </tr>\n",
       "    <tr>\n",
       "      <th>n_train</th>\n",
       "      <th></th>\n",
       "      <th></th>\n",
       "      <th></th>\n",
       "      <th></th>\n",
       "    </tr>\n",
       "  </thead>\n",
       "  <tbody>\n",
       "    <tr>\n",
       "      <th>1000</th>\n",
       "      <td>0.876583</td>\n",
       "      <td>0.864383</td>\n",
       "      <td>0.8782</td>\n",
       "      <td>0.8676</td>\n",
       "    </tr>\n",
       "    <tr>\n",
       "      <th>3000</th>\n",
       "      <td>0.923383</td>\n",
       "      <td>0.898733</td>\n",
       "      <td>0.9193</td>\n",
       "      <td>0.8982</td>\n",
       "    </tr>\n",
       "    <tr>\n",
       "      <th>7000</th>\n",
       "      <td>0.943433</td>\n",
       "      <td>0.933367</td>\n",
       "      <td>0.9392</td>\n",
       "      <td>0.9298</td>\n",
       "    </tr>\n",
       "    <tr>\n",
       "      <th>10000</th>\n",
       "      <td>0.95355</td>\n",
       "      <td>0.948867</td>\n",
       "      <td>0.9435</td>\n",
       "      <td>0.9427</td>\n",
       "    </tr>\n",
       "    <tr>\n",
       "      <th>30000</th>\n",
       "      <td>0.979283</td>\n",
       "      <td>0.982617</td>\n",
       "      <td>0.961</td>\n",
       "      <td>0.9664</td>\n",
       "    </tr>\n",
       "    <tr>\n",
       "      <th>60000</th>\n",
       "      <td>0.9998</td>\n",
       "      <td>1.0</td>\n",
       "      <td>0.971</td>\n",
       "      <td>0.9749</td>\n",
       "    </tr>\n",
       "  </tbody>\n",
       "</table>\n",
       "</div>"
      ],
      "text/plain": [
       "        Train Accuracy (pretrained) Train Accuracy Test Accuracy (pretrained)  \\\n",
       "n_train                                                                         \n",
       "1000                       0.876583       0.864383                     0.8782   \n",
       "3000                       0.923383       0.898733                     0.9193   \n",
       "7000                       0.943433       0.933367                     0.9392   \n",
       "10000                       0.95355       0.948867                     0.9435   \n",
       "30000                      0.979283       0.982617                      0.961   \n",
       "60000                        0.9998            1.0                      0.971   \n",
       "\n",
       "        Test Accuracy  \n",
       "n_train                \n",
       "1000           0.8676  \n",
       "3000           0.8982  \n",
       "7000           0.9298  \n",
       "10000          0.9427  \n",
       "30000          0.9664  \n",
       "60000          0.9749  "
      ]
     },
     "execution_count": 37,
     "metadata": {},
     "output_type": "execute_result"
    }
   ],
   "source": [
    "analysis_n_train.results"
   ]
  },
  {
   "cell_type": "code",
   "execution_count": 40,
   "metadata": {},
   "outputs": [],
   "source": [
    "analysis_n_train.results.to_csv('2_6_out.zip')"
   ]
  },
  {
   "cell_type": "code",
   "execution_count": null,
   "metadata": {},
   "outputs": [],
   "source": []
  }
 ],
 "metadata": {
  "interpreter": {
   "hash": "c13f75b521158b36ba3ff4ac87dceddef9f3d5f34c1f5e4e80e856c73bb49853"
  },
  "kernelspec": {
   "display_name": "Python 3 (ipykernel)",
   "language": "python",
   "name": "python3"
  },
  "language_info": {
   "codemirror_mode": {
    "name": "ipython",
    "version": 3
   },
   "file_extension": ".py",
   "mimetype": "text/x-python",
   "name": "python",
   "nbconvert_exporter": "python",
   "pygments_lexer": "ipython3",
   "version": "3.8.13"
  }
 },
 "nbformat": 4,
 "nbformat_minor": 2
}
