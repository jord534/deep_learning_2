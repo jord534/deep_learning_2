{
 "cells": [
  {
   "cell_type": "code",
   "execution_count": 2,
   "id": "4e98f270",
   "metadata": {},
   "outputs": [
    {
     "data": {
      "text/plain": [
       "<matplotlib.contour.QuadContourSet at 0x7f81d60db400>"
      ]
     },
     "execution_count": 2,
     "metadata": {},
     "output_type": "execute_result"
    },
    {
     "data": {
      "image/png": "[encoded data removed]",
      "text/plain": [
       "<Figure size 432x288 with 1 Axes>"
      ]
     },
     "metadata": {},
     "output_type": "display_data"
    }
   ],
   "source": [
    "import numpy as np\n",
    "\n",
    "import scipy as sp\n",
    "\n",
    "import matplotlib.pyplot as plt\n",
    "\n",
    "import pandas as pd\n",
    "\n",
    "import seaborn as sns\n",
    "\n",
    "sns.set()\n",
    "\n",
    "f = lambda x, y: np.exp(-(x*x*y*y+x*x+y*y-8*x-8*y)/2.)\n",
    "\n",
    " \n",
    "\n",
    "xx = np.linspace(-1, 10, 100)\n",
    "\n",
    "yy = np.linspace(-1, 10, 100)\n",
    "\n",
    "xg,yg = np.meshgrid(xx, yy)\n",
    "\n",
    "z = f(xg.ravel(), yg.ravel())\n",
    "\n",
    "z2 = z.reshape(xg.shape)\n",
    "\n",
    "plt.contourf(xg, yg, z2, cmap='BrBG')"
   ]
  },
  {
   "cell_type": "code",
   "execution_count": null,
   "id": "c165d29e",
   "metadata": {},
   "outputs": [],
   "source": []
  },
  {
   "cell_type": "code",
   "execution_count": null,
   "id": "a8078822",
   "metadata": {},
   "outputs": [],
   "source": []
  }
 ],
 "metadata": {
  "kernelspec": {
   "display_name": "Python 3 (ipykernel)",
   "language": "python",
   "name": "python3"
  },
  "language_info": {
   "codemirror_mode": {
    "name": "ipython",
    "version": 3
   },
   "file_extension": ".py",
   "mimetype": "text/x-python",
   "name": "python",
   "nbconvert_exporter": "python",
   "pygments_lexer": "ipython3",
   "version": "3.9.7"
  }
 },
 "nbformat": 4,
 "nbformat_minor": 5
}
