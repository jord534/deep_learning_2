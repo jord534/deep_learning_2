{
 "cells": [
  {
   "cell_type": "code",
   "execution_count": 1,
   "id": "4e6cfe82",
   "metadata": {},
   "outputs": [
    {
     "name": "stdout",
     "output_type": "stream",
     "text": [
      "Iter : 0   Erreur : 0.20123465551744543\n",
      "Iter : 10   Erreur : 0.26347894155313734\n",
      "Iter : 20   Erreur : 0.2752762708511162\n",
      "Iter : 30   Erreur : 0.28033286209429514\n",
      "Iter : 40   Erreur : 0.27813213072383913\n",
      "Iter : 50   Erreur : 0.28010217332936393\n",
      "Iter : 60   Erreur : 0.2898840429051484\n"
     ]
    },
    {
     "name": "stderr",
     "output_type": "stream",
     "text": [
      "/Users/jordanbonil/Desktop/deep_learning_2/group_project/principal_RBM_alpha.py:17: RuntimeWarning: overflow encountered in exp\n",
      "  return 1/(1+np.exp(-t))\n"
     ]
    },
    {
     "name": "stdout",
     "output_type": "stream",
     "text": [
      "Iter : 70   Erreur : 0.2962147319707115\n",
      "Iter : 80   Erreur : 0.2796940943443621\n",
      "Iter : 90   Erreur : 0.286065889240172\n",
      "Iter : 0   Erreur : 0.035008988388383094\n",
      "Iter : 10   Erreur : 0.03846153845276426\n",
      "Iter : 20   Erreur : 0.038461538461538464\n",
      "Iter : 30   Erreur : 0.038461538461538464\n",
      "Iter : 40   Erreur : 0.038461538461538464\n",
      "Iter : 50   Erreur : 0.038461538461538464\n",
      "Iter : 60   Erreur : 0.038461538461538464\n",
      "Iter : 70   Erreur : 0.038461538461538464\n",
      "Iter : 80   Erreur : 0.038461538461538464\n",
      "Iter : 90   Erreur : 0.038461538461538464\n"
     ]
    },
    {
     "data": {
      "image/png": "[encoded data removed]",
      "text/plain": [
       "<Figure size 432x288 with 1 Axes>"
      ]
     },
     "metadata": {
      "needs_background": "light"
     },
     "output_type": "display_data"
    }
   ],
   "source": [
    "import scipy.io\n",
    "import matplotlib.pyplot as plt\n",
    "import numpy as np\n",
    "from sklearn.utils import shuffle\n",
    "import principal_RBM_alpha as rbm\n",
    "import principal_DBN_alpha as dbn\n",
    "import idx2numpy\n",
    "from sklearn.preprocessing import OneHotEncoder\n",
    "\n",
    "##############################\n",
    "######### AlphaDigit #########\n",
    "##############################\n",
    "p, q = 320, 50\n",
    "nb_iter = 100\n",
    "alpha = 0.1\n",
    "batch_size = 10\n",
    "n = 72\n",
    "nb_iter_gibbs = 1000\n",
    "nb_couche = 2\n",
    "\n",
    "\n",
    "#Cahrge les données\n",
    "X = rbm.lire_alpha_digit([2, 7]) #(72, 320)\n",
    "\n",
    "\"\"\"\n",
    "#RBM\n",
    "#initialisation\n",
    "RBM = rbm.RBM(p, q)\n",
    "#train\n",
    "rbm.train_RBM(RBM, X, nb_iter, batch_size, alpha)\n",
    "#Test\n",
    "rbm.generer_image_RBM(RBM, nb_iter_gibbs, 1)\n",
    "\"\"\"\n",
    "\n",
    "\n",
    "#DBM\n",
    "DBN = dbn.DNN(nb_couche, p, q)\n",
    "dbn.pretrain_DNN(DBN, X, nb_iter, batch_size, alpha)\n",
    "dbn.generer_image_DBN(DBN, nb_iter_gibbs, 1)\n",
    "\n",
    "\n",
    "\n",
    "\n",
    "\n",
    "##############################\n",
    "############ MNIST ###########\n",
    "##############################\n",
    "\n",
    "\n",
    "file = 'train-images.idx3-ubyte'\n",
    "X = (idx2numpy.convert_from_file(file).reshape((60000,-1,1))[:,:,0]>127)*1.\n",
    "X = X[:1000, :]\n",
    "file = 'train-labels.idx1-ubyte'\n",
    "Y = idx2numpy.convert_from_file(file)\n",
    "Y = Y[:1000].reshape((-1, 1))\n",
    "Y = OneHotEncoder().fit_transform(Y)\n",
    "\n",
    "image_size = 28\n",
    "num_images = 5\n",
    "\n"
   ]
  },
  {
   "cell_type": "code",
   "execution_count": 3,
   "id": "a9d0d9e0",
   "metadata": {},
   "outputs": [
    {
     "data": {
      "text/plain": [
       "(1000, 10)"
      ]
     },
     "execution_count": 3,
     "metadata": {},
     "output_type": "execute_result"
    }
   ],
   "source": [
    "Y.shape\n"
   ]
  },
  {
   "cell_type": "code",
   "execution_count": null,
   "id": "5e7c4cf8",
   "metadata": {},
   "outputs": [],
   "source": [
    "#DNN is a DBN with a classification layer\n",
    "n_layers = 3\n",
    "\n",
    "DNN = dbn.DNN(n_layers, input_dim, n_classes)\n",
    "# n_classes needs to be Y.shape[-1]\n",
    "n_classes = Y.shape[-1]\n",
    "DNN.add_classification_layer(n_classes)\n",
    "\n",
    "import principal_DNN_MNIST as dnn\n",
    "learning_rate = 3e-4\n",
    "DNN = dnn.retropropagation(DNN, X, nb_iter, learning_rate, batch_size, X.shape[0], Y )\n",
    "\n",
    "dnn.test_DNN(DNN, X, Y)"
   ]
  }
 ],
 "metadata": {
  "kernelspec": {
   "display_name": "Python 3 (ipykernel)",
   "language": "python",
   "name": "python3"
  },
  "language_info": {
   "codemirror_mode": {
    "name": "ipython",
    "version": 3
   },
   "file_extension": ".py",
   "mimetype": "text/x-python",
   "name": "python",
   "nbconvert_exporter": "python",
   "pygments_lexer": "ipython3",
   "version": "3.9.12"
  }
 },
 "nbformat": 4,
 "nbformat_minor": 5
}
