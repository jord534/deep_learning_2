{
 "cells": [
  {
   "cell_type": "code",
   "execution_count": 1,
   "id": "a44fa49c",
   "metadata": {},
   "outputs": [],
   "source": [
    "import numpy as np\n",
    "import scipy.io as scio\n",
    "import numpy.random as rd"
   ]
  },
  {
   "cell_type": "code",
   "execution_count": 2,
   "id": "80fd0ab1",
   "metadata": {},
   "outputs": [],
   "source": [
    "data = scio.loadmat('binaryalphadigs.mat')"
   ]
  },
  {
   "cell_type": "code",
   "execution_count": 16,
   "id": "9219c59b",
   "metadata": {},
   "outputs": [
    {
     "data": {
      "text/plain": [
       "dict_keys(['__header__', '__version__', '__globals__', 'dat', 'numclass', 'classlabels', 'classcounts'])"
      ]
     },
     "execution_count": 16,
     "metadata": {},
     "output_type": "execute_result"
    }
   ],
   "source": [
    "data.keys()"
   ]
  },
  {
   "cell_type": "code",
   "execution_count": 6,
   "id": "e1276e90",
   "metadata": {},
   "outputs": [],
   "source": [
    "def lire_alpha_digits(character_index_to_learn):\n",
    "    mats = data['dat']\n",
    "    return mats[character_index_to_learn]"
   ]
  },
  {
   "cell_type": "code",
   "execution_count": 7,
   "id": "57593c2f",
   "metadata": {},
   "outputs": [],
   "source": [
    "class RBM:\n",
    "    def __init__(self, input_bias, output_bias ,weights):\n",
    "        self.a = input_bias\n",
    "        self.b = output_bias\n",
    "        self.W = weights\n",
    "    \n",
    "\n",
    "def init_RBM(i,o): # i and o are input and ouptut sizes\n",
    "    layer = RBM(np.zeros(i),np.zeros(o),rd.normal(loc = 0.0, scale = 0.1, size =(i,o) ))\n",
    "    return layer"
   ]
  },
  {
   "cell_type": "code",
   "execution_count": 8,
   "id": "cf72845d",
   "metadata": {},
   "outputs": [],
   "source": [
    "def sigmoid(x):\n",
    "    return 1./(1.+np.exp(-x))\n",
    "\n",
    "def entree_sortie_RBM(rbm, input_data):\n",
    "    return sigmoid(rbm.W.dot(rbm.a + input_data) + rbm.b)\n",
    "    \n",
    "    "
   ]
  },
  {
   "cell_type": "code",
   "execution_count": 9,
   "id": "48b56857",
   "metadata": {},
   "outputs": [],
   "source": [
    "def inv_sigmoid(y):\n",
    "    return np.log(y/(1-y))\n",
    "\n",
    "def sortie_entree_RBM(rbm, output_data):\n",
    "    return np.linalg.sove(rbm.W, inv_sigmoid(output_data) - rbm.b ) - rbm.a\n",
    "    "
   ]
  },
  {
   "cell_type": "code",
   "execution_count": null,
   "id": "f8231fe8",
   "metadata": {},
   "outputs": [],
   "source": [
    "def train_RBM(rbm, epochs, learning_rate, batch_size, data_size):\n",
    "    # let x be the data\n",
    "    for batch in data[::batch_size] :\n",
    "        for t in epoch :\n",
    "            h = entree_sortie(rbm, batch)\n",
    "            pos_grad = batch.dot(h)\n",
    "            batch_prime = sortie_entree(rbm, h)\n",
    "            h_prime = entree_sortie(rbm, batch_prime)\n",
    "            neg_grad = batch_prime.dot(h_prime)\n",
    "            rbm.W -= learning_rate*(pos_grad-neg_grad)\n",
    "            rbm.a -= learning_rate*(batch - batch_prime)\n",
    "            rbm.b -= learning_rate*(h - h_prime)\n",
    "            \n",
    "            err = np.linalg.norm(batch - batch_prime, 2)\n",
    "            print(err)\n",
    "    return rbm\n",
    "    "
   ]
  },
  {
   "cell_type": "code",
   "execution_count": null,
   "id": "d9e857ea",
   "metadata": {},
   "outputs": [],
   "source": [
    "def generer_image_RBM(rbm, num_of_it, num_of_img):\n",
    "    n = data['numclass']\n",
    "    k = n/num_of_img # we generate the same amount of images per class\n",
    "    # let's generate k images per class :\n",
    "    for _class in data['classlabels'] :\n",
    "        \n",
    "    "
   ]
  }
 ],
 "metadata": {
  "kernelspec": {
   "display_name": "Python 3 (ipykernel)",
   "language": "python",
   "name": "python3"
  },
  "language_info": {
   "codemirror_mode": {
    "name": "ipython",
    "version": 3
   },
   "file_extension": ".py",
   "mimetype": "text/x-python",
   "name": "python",
   "nbconvert_exporter": "python",
   "pygments_lexer": "ipython3",
   "version": "3.8.13"
  }
 },
 "nbformat": 4,
 "nbformat_minor": 5
}
