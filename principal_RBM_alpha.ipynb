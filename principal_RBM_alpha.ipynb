{
 "cells": [
  {
   "cell_type": "code",
   "execution_count": 1,
   "id": "a44fa49c",
   "metadata": {},
   "outputs": [],
   "source": [
    "import numpy as np\n",
    "import scipy.io as scio\n",
    "import numpy.random as rd"
   ]
  },
  {
   "cell_type": "code",
   "execution_count": 2,
   "id": "80fd0ab1",
   "metadata": {},
   "outputs": [],
   "source": [
    "data = scio.loadmat('binaryalphadigs.mat')"
   ]
  },
  {
   "cell_type": "code",
   "execution_count": 4,
   "id": "8a7d4257",
   "metadata": {},
   "outputs": [
    {
     "data": {
      "text/plain": [
       "array([[36]], dtype=uint8)"
      ]
     },
     "execution_count": 4,
     "metadata": {},
     "output_type": "execute_result"
    }
   ],
   "source": [
    "data['numclass']"
   ]
  },
  {
   "cell_type": "code",
   "execution_count": null,
   "id": "1d3ff8a5",
   "metadata": {},
   "outputs": [],
   "source": []
  },
  {
   "cell_type": "code",
   "execution_count": 3,
   "id": "9219c59b",
   "metadata": {},
   "outputs": [
    {
     "data": {
      "text/plain": [
       "dict_keys(['__header__', '__version__', '__globals__', 'dat', 'numclass', 'classlabels', 'classcounts'])"
      ]
     },
     "execution_count": 3,
     "metadata": {},
     "output_type": "execute_result"
    }
   ],
   "source": [
    "data.keys()"
   ]
  },
  {
   "cell_type": "markdown",
   "id": "afc45982",
   "metadata": {},
   "source": [
    "Each character is a 20x16 {0,1}-valued array\n",
    "\n",
    "__In order to have a {0,1}-valued vector, we need to flatten it__"
   ]
  },
  {
   "cell_type": "code",
   "execution_count": 4,
   "id": "d7c08cd2",
   "metadata": {},
   "outputs": [],
   "source": [
    "mat = data['dat']\n",
    "datasize = mat.shape\n",
    "sample_size = mat[0,0].shape\n",
    "new_format_size = (datasize[0],datasize[1],sample_size[0]*sample_size[1])\n",
    "# the new format is a flattened version of the raw samples"
   ]
  },
  {
   "cell_type": "code",
   "execution_count": 5,
   "id": "b3f06c24",
   "metadata": {},
   "outputs": [],
   "source": [
    "dataset = np.zeros(new_format_size)\n",
    "for char in range(datasize[0]) :\n",
    "    for samp in range(datasize[1]):\n",
    "        dataset[char,samp] = mat[char,samp].flatten()"
   ]
  },
  {
   "cell_type": "code",
   "execution_count": 6,
   "id": "e1276e90",
   "metadata": {},
   "outputs": [],
   "source": [
    "def lire_alpha_digits(character_index_to_learn):\n",
    "    return dataset[character_index_to_learn]"
   ]
  },
  {
   "cell_type": "code",
   "execution_count": 7,
   "id": "57593c2f",
   "metadata": {},
   "outputs": [],
   "source": [
    "class RBM:\n",
    "    def __init__(self, input_bias, output_bias ,weights):\n",
    "        self.a = input_bias\n",
    "        self.b = output_bias\n",
    "        self.W = weights\n",
    "    \n",
    "\n",
    "def init_RBM(i,o): # i and o are input and ouptut sizes\n",
    "    layer = RBM(np.zeros(i),np.zeros(o),rd.normal(loc = 0.0, scale = 0.1, size =(i,o) ))\n",
    "    return layer"
   ]
  },
  {
   "cell_type": "code",
   "execution_count": 8,
   "id": "cf72845d",
   "metadata": {},
   "outputs": [],
   "source": [
    "def entree_sortie_RBM(rbm, input_data):\n",
    "    return sigmoid(rbm.W.dot(input_data) + rbm.a)\n",
    "    \n",
    "    "
   ]
  },
  {
   "cell_type": "code",
   "execution_count": 9,
   "id": "48b56857",
   "metadata": {},
   "outputs": [],
   "source": [
    "def sortie_entree_RBM(rbm, output_data):\n",
    "    return sigmoid(output_data.dot(rbm.W.T) + rbm.b.T)\n",
    "    "
   ]
  },
  {
   "cell_type": "code",
   "execution_count": 17,
   "id": "54a37fb2",
   "metadata": {},
   "outputs": [
    {
     "name": "stdout",
     "output_type": "stream",
     "text": [
      "(5, 320)\n",
      "(5, 320)\n",
      "(5, 320)\n",
      "(5, 320)\n",
      "(5, 320)\n",
      "(5, 320)\n",
      "(5, 320)\n",
      "(5, 320)\n",
      "(5, 320)\n",
      "(5, 320)\n",
      "(5, 320)\n",
      "(5, 320)\n",
      "(5, 320)\n",
      "(5, 320)\n",
      "(5, 320)\n",
      "(5, 320)\n",
      "(5, 320)\n",
      "(5, 320)\n",
      "(5, 320)\n",
      "(5, 320)\n",
      "(5, 320)\n",
      "(5, 320)\n",
      "(5, 320)\n",
      "(5, 320)\n",
      "(5, 320)\n",
      "(5, 320)\n",
      "(5, 320)\n",
      "(5, 320)\n",
      "(5, 320)\n",
      "(5, 320)\n",
      "(5, 320)\n",
      "(5, 320)\n",
      "(5, 320)\n",
      "(5, 320)\n",
      "(5, 320)\n",
      "(5, 320)\n"
     ]
    }
   ],
   "source": [
    "for elt in dataset[:,::int(39/4)] :\n",
    "    print(elt.shape)\n"
   ]
  },
  {
   "cell_type": "code",
   "execution_count": 10,
   "id": "f8231fe8",
   "metadata": {},
   "outputs": [],
   "source": [
    "def train_RBM(rbm, epochs, learning_rate, batch_size, data_size):\n",
    "    \n",
    "    for t in epoch :\n",
    "        print(\"Epoch : \", t, \"/\", epoch)\n",
    "        \n",
    "        for batch in dataset[:,::int(data_size/batch_size)] :\n",
    "            h = entree_sortie(rbm, batch)\n",
    "            pos_grad = batch.dot(h)\n",
    "            \n",
    "            #Contrastive Divergence -1\n",
    "            batch_prime = sortie_entree(rbm, h)\n",
    "            h_prime = entree_sortie(rbm, batch_prime)\n",
    "            \n",
    "            neg_grad = batch_prime.dot(h_prime)\n",
    "            rbm.W -= learning_rate*(pos_grad-neg_grad)\n",
    "            rbm.a -= learning_rate*(batch - batch_prime)\n",
    "            rbm.b -= learning_rate*(h - h_prime)\n",
    "            \n",
    "            err = np.linalg.norm(batch - batch_prime, 2)\n",
    "            print(err)\n",
    "            \n",
    "    return rbm\n",
    "    "
   ]
  },
  {
   "cell_type": "code",
   "execution_count": null,
   "id": "d9e857ea",
   "metadata": {},
   "outputs": [],
   "source": [
    "def generer_image_RBM(rbm, num_of_it, num_of_img):\n",
    "    n = data['numclass'] # n is the population per class in the dataset\n",
    "    k = n/num_of_img # we generate the same amount of images per class\n",
    "    # let's generate k images per class :\n",
    "    for _class in data['classlabels'] :\n",
    "        for i in range(k):\n",
    "            # gibbs sampling....\n",
    "    "
   ]
  },
  {
   "cell_type": "code",
   "execution_count": null,
   "id": "2aec07f8",
   "metadata": {},
   "outputs": [],
   "source": []
  }
 ],
 "metadata": {
  "kernelspec": {
   "display_name": "Python 3 (ipykernel)",
   "language": "python",
   "name": "python3"
  },
  "language_info": {
   "codemirror_mode": {
    "name": "ipython",
    "version": 3
   },
   "file_extension": ".py",
   "mimetype": "text/x-python",
   "name": "python",
   "nbconvert_exporter": "python",
   "pygments_lexer": "ipython3",
   "version": "3.9.12"
  }
 },
 "nbformat": 4,
 "nbformat_minor": 5
}
